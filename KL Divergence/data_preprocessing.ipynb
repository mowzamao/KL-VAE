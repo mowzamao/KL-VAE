{
 "cells": [
  {
   "cell_type": "markdown",
   "metadata": {},
   "source": [
    "# Data Pre-Processing Notebook\n",
    "\n",
    "Author: Sophie Mowe\n",
    "\n",
    "The purpose of this Jupyter Notebook is pre-processing SEER and GTEx Gene Expression data."
   ]
  },
  {
   "cell_type": "code",
   "execution_count": 1,
   "metadata": {},
   "outputs": [],
   "source": [
    "import PreProcess\n",
    "import numpy as np\n",
    "import pandas as pd\n",
    "from collections import defaultdict"
   ]
  },
  {
   "cell_type": "markdown",
   "metadata": {},
   "source": [
    "## SEER Cancer Incidence Data"
   ]
  },
  {
   "cell_type": "code",
   "execution_count": 7,
   "metadata": {},
   "outputs": [],
   "source": [
    "seer_cancer_list = [\"Acute Lymphocytic Leukemia\",\n",
    "    \"Acute Monocytic Leukemia\",\"Acute Myeloid Leukemia\",\"Adenocarcinoma of the Lung and Bronchus\",\n",
    "    \"Aleukemic Subleukemic and NOS\",\"allsites\",\"Anus Anal Canal and Anorectum\",\n",
    "    \"Appendix\",\"Ascending Colon\",\"Bones and Joints\",\"Brain and Other Nervous System\",\n",
    "    \"Brain\",\"Breast\",\"Cecum\", \"Cervix Uteri\",\"Chronic Lymphocytic Leukemia\",\"Chronic Myeloid Leukemia\",\n",
    "    \"Colon and Rectum\",\"Colon excluding Rectum\",\n",
    "    \"Corpus and Uterus NOS\",\"Corpus Uteri\",\"Cranial Nerves Other Nervous System\",\n",
    "    \"Descending Colon\",\"Digestive System\",\"Endocrine System\",\"Esophagus\",\n",
    "    \"Eye and Orbit\",\"Female Genital System\",\"Floor of Mouth\",\"Gallbladder\",\n",
    "    \"Gum and Other Mouth\",\"Hepatic Flexure\",\"Hodgkin - Extranodal\",\"Hodgkin - Nodal\",\n",
    "    \"Hodgkin Lymphoma\",\"Hypopharynx\",\"Intrahepatic Bile Duct\",\n",
    "    \"Kaposi Sarcoma (9140)\",\"Kidney and Renal Pelvis\",\"Large Intestine NOS\",\"Larynx\",\n",
    "    \"Leukemia\",\"lip\",\"Liver and Intrahepatic Bile Duct\",\"Liver\",\"Lung and Bronchus\",\n",
    "    \"Lymphocytic Leukemia\",\"Lymphoma\",\"Male Genital System\",\"Melanoma of the Skin\",\n",
    "    \"Mesothelioma (9050-9055)\",\"Miscellaneous\",\"Myeloid and Monocytic Leukemia\",\n",
    "    \"Myeloma\",\"Nasopharynx\",\"Neuroblastoma (9490-9509)\",\"NHL - Extranodal\",\n",
    "    \"NHL - Nodal\",\"Non-Hodgkin Lymphoma\",\"Non-Small Cell Lung and Bronchus\",\n",
    "    \"Nose Nasal Cavity and Middle Ear\",\"Oral Cavity and Pharynx\",\"Oropharynx\",\n",
    "    \"Other Acute Leukemia\",\"Other Biliary\",\"Other Digestive Organs\",\"Other Endocrine including Thymus\",\n",
    "    \"Other Female Genital Organs\",\"Other Leukemia\",\"Other Lymphocytic Leukemia\",\"Other Male Genital Organs\",\n",
    "    \"Other Myeloid Monocytic Leukemia\",\"Other Non-Epithelial Skin\",\"Other Oral Cavity and Pharynx\",\n",
    "    \"Other Urinary Organs\",\"Ovary\",\"Pancreas\",\"Penis\",\"Peritoneum Omentum and Mesentery\",\n",
    "    \"Pleura\",\"Prostate\",\"Rectosigmoid Junction\",\"Rectum and Rectosigmoid Junction\",\n",
    "    \"Rectum\",\"Respiratory System\",\"Retroperitoneum\",\"Salivary Gland\",\"Sigmoid Colon\",\n",
    "    \"Skin excluding Basal and Squamous\",\"Small Cell Lung and Bronchus (8041-8045)\",\"Small Intestine\",\n",
    "    \"Soft Tissue including Heart\",\"Splenic Flexure\",\"Squamous cell Lung and Bronchus (8051-8130)\",\n",
    "    \"Stomach\",\"Testis\",\"Thyroid\",\"tongue\",\"Tonsil\",\"Trachea Mediastinum and Other Respiratory Organs\",\n",
    "    \"Transverse Colon\",\"Ureter\",\"Urinary Bladder\",\"Urinary System\",\"Uterus NOS\",\"Vagina\",\"Vulva\",\"Wilms Tumor (8960)\"]\n",
    "\n",
    "for seer_cancer in seer_cancer_list:\n",
    "    if seer_cancer == \"CancerIncidence_1975-2020\":\n",
    "        raw_seer_path = '../data/raw_data/SEER/' + seer_cancer + '.xlsx'\n",
    "    else:\n",
    "        raw_seer_path='../data/raw_data/SEER/' + seer_cancer + '.csv'\n",
    "    results_folder='../data/SEER/'\n",
    "\n",
    "    seer = pd.read_csv(raw_seer_path, header=1, usecols=['        ', 'All races.1', 'All races.2'])\n",
    "    seer.rename(columns={'        ': 'Ages', 'All races.1': 'Male', 'All races.2': 'Female'}, inplace=True)\n",
    "\n",
    "    # dropping the '0-19' and '80+' categories as the GTEx data does not contain these age groups\n",
    "    seer.drop([0, 7], inplace=True)\n",
    "\n",
    "    # saving cleaned data\n",
    "    seer.to_csv(results_folder+seer_cancer+'.csv')\n",
    "seer"
   ]
  },
  {
   "cell_type": "markdown",
   "metadata": {},
   "source": [
    "## Scaling and Averaging GTEx Data"
   ]
  },
  {
   "cell_type": "code",
   "execution_count": 10,
   "metadata": {},
   "outputs": [],
   "source": [
    "gtex_samples = [\n",
    "    'brain_cerebellum',\n",
    "    'brain_cortex',\n",
    "    'brain_frontal_cortex_ba9',\n",
    "    'brain_hippocampus',\n",
    "    'brain_hypothalamus',\n",
    "    'brain_nucleus_accumbens_basal ganglia',\n",
    "    'brain_putamen_basal_ganglia',\n",
    "    'brain_spinal_cord_cervical_c-1)',\n",
    "    'brain_substantia_nigra',\n",
    "    'breast_mammary_tissue',\n",
    "    'cells_cultured_fibroblasts',\n",
    "    'cells_ebv-transformed_lymphocytes',\n",
    "    'cervix_ectocervix',\n",
    "    'cervix_endocervix',\n",
    "    'colon_sigmoid',\n",
    "    'colon_transverse',\n",
    "    'esophagus_gastroesophageal_junction',\n",
    "    'esophagus_mucosa',\n",
    "    'esophagus_muscularis',\n",
    "    'fallopian_tube',\n",
    "    'heart_atrial_appendage',\n",
    "    'heart_left_ventricle',\n",
    "    'kidney_cortex',\n",
    "    'kidney_medulla',\n",
    "    'liver',\n",
    "    'lung',\n",
    "    'minor_salivary_gland',\n",
    "    'muscle_skeletal',\n",
    "    'nerve_tibial',\n",
    "    'ovary',\n",
    "    'pancreas',\n",
    "    'pituitary',\n",
    "    'prostate',\n",
    "    'skin_not_sun_exposed_suprapubic',\n",
    "    'skin_sun_exposed_lower_leg',\n",
    "    'small_intestine_terminal_ileum',\n",
    "    'spleen',\n",
    "    'stomach',\n",
    "    'testis',\n",
    "    'thyroid',\n",
    "    'uterus',\n",
    "    'vagina',\n",
    "    'whole_blood',\n",
    "    'adipose_subcutaneous',\n",
    "    'adipose_visceral_omentum',\n",
    "    'adrenal_gland',\n",
    "    'artery_aorta',\n",
    "    'artery_coronary',\n",
    "    'artery_tibial',\n",
    "    'bladder',\n",
    "    'brain_amygdala',\n",
    "    'brain_anterior_cingulate_cortex_ba24',\n",
    "    'brain_caudate_basal_ganglia',\n",
    "    'brain_cerebellar_hemisphere'\n",
    "]"
   ]
  },
  {
   "cell_type": "code",
   "execution_count": null,
   "metadata": {},
   "outputs": [],
   "source": [
    "PreProcess.get_gtex()"
   ]
  },
  {
   "cell_type": "markdown",
   "metadata": {},
   "source": [
    "### Getting and saving gene descriptions"
   ]
  },
  {
   "cell_type": "code",
   "execution_count": null,
   "metadata": {},
   "outputs": [],
   "source": [
    "# reading in first two columns of gene expression csv\n",
    "def get_gene_descriptions(infile, outfile):\n",
    "    gene_descriptions = pd.read_parquet(infile, columns=['Name', 'Description'])\n",
    "    gene_descriptions.to_csv(outfile)\n",
    "\n",
    "get_gene_descriptions(infile=\"data\\pantissue\\pantissue_gtex.parquet\", outfile='data/gtex_gene_names.csv')"
   ]
  }
 ],
 "metadata": {
  "kernelspec": {
   "display_name": "project-data-cuda",
   "language": "python",
   "name": "python3"
  },
  "language_info": {
   "codemirror_mode": {
    "name": "ipython",
    "version": 3
   },
   "file_extension": ".py",
   "mimetype": "text/x-python",
   "name": "python",
   "nbconvert_exporter": "python",
   "pygments_lexer": "ipython3",
   "version": "3.11.9"
  }
 },
 "nbformat": 4,
 "nbformat_minor": 2
}
